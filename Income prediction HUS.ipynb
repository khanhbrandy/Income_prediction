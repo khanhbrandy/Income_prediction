{
 "cells": [
  {
   "cell_type": "code",
   "execution_count": 2,
   "metadata": {
    "colab": {
     "base_uri": "https://localhost:8080/",
     "height": 34
    },
    "colab_type": "code",
    "executionInfo": {
     "elapsed": 1793,
     "status": "ok",
     "timestamp": 1580134456091,
     "user": {
      "displayName": "Trinh Khanh",
      "photoUrl": "",
      "userId": "17861245512727474138"
     },
     "user_tz": -420
    },
    "id": "3EBIbE9SlH4D",
    "outputId": "4479dad8-3e97-43d9-b39f-5c1689febf50"
   },
   "outputs": [
    {
     "name": "stdout",
     "output_type": "stream",
     "text": [
      "Mounted at /content/drive\n"
     ]
    }
   ],
   "source": [
    "colab = True\n",
    "if colab:\n",
    "    import sys\n",
    "    from google.colab import drive\n",
    "    drive.mount('/content/drive',force_remount=True)\n",
    "    sys.path.append('drive/My Drive/Colab Notebooks/Income_prediction')\n",
    "    prefix = 'drive/My Drive/Colab Notebooks/Income_prediction/'\n",
    "else:\n",
    "    prefix = ''"
   ]
  },
  {
   "cell_type": "code",
   "execution_count": 0,
   "metadata": {
    "colab": {},
    "colab_type": "code",
    "id": "53PSN91alDyO"
   },
   "outputs": [],
   "source": [
    "import pandas as pd\n",
    "import numpy as np\n",
    "import time\n",
    "from sklearn import model_selection\n",
    "from sklearn import preprocessing\n",
    "import seaborn as sns\n",
    "import xgboost as xgb\n",
    "from sklearn.linear_model import LogisticRegression\n",
    "from sklearn.ensemble import RandomForestClassifier\n",
    "from sklearn.tree import DecisionTreeClassifier, ExtraTreeClassifier\n",
    "from scipy.stats import mode\n",
    "from imblearn.over_sampling import SMOTE\n",
    "import re\n"
   ]
  },
  {
   "cell_type": "markdown",
   "metadata": {
    "colab_type": "text",
    "id": "p3ZdESoHlDyg"
   },
   "source": [
    "# Preprocessing"
   ]
  },
  {
   "cell_type": "markdown",
   "metadata": {
    "colab_type": "text",
    "id": "pZ1Z20FNlDyl"
   },
   "source": [
    "### Get raw data"
   ]
  },
  {
   "cell_type": "code",
   "execution_count": 0,
   "metadata": {
    "colab": {},
    "colab_type": "code",
    "id": "ZsjDllRvlDyo"
   },
   "outputs": [],
   "source": [
    "def get_data(url):\n",
    "    columns = ['age',\n",
    "       'class of worker',\n",
    "       'detailed industry recode',\n",
    "       'detailed occupation recode',\n",
    "       'education',\n",
    "       'wage per hour',\n",
    "       'enroll in edu inst last wk',\n",
    "       'marital status',\n",
    "       'major industry code',\n",
    "       'major occupation code',\n",
    "       'race',\n",
    "       'hispanic origin',\n",
    "       'sex',\n",
    "       'member of a labor union',\n",
    "       'reason for unemployment',\n",
    "       'full or part time employment stat',\n",
    "       'capital gains',\n",
    "       'capital losses',\n",
    "       'dividends from stocks',\n",
    "       'tax filer stat',\n",
    "       'region of previous residence',\n",
    "       'state of previous residence',\n",
    "       'detailed household and family stat',\n",
    "       'detailed household summary in household',\n",
    "       'instance weight',\n",
    "       'migration code-change in msa',\n",
    "       'migration code-change in reg',\n",
    "       'migration code-move within reg',\n",
    "       'live in this house 1 year ago',\n",
    "       'migration prev res in sunbelt',\n",
    "       'num persons worked for employer',\n",
    "       'family members under 18',\n",
    "       'country of birth father',\n",
    "       'country of birth mother',\n",
    "       'country of birth self',\n",
    "       'citizenship',\n",
    "       'own business or self employed',\n",
    "       'fill inc questionnaire for veterans admin',\n",
    "       'veterans benefits',\n",
    "       'weeks worked in year',\n",
    "       'year',\n",
    "       'class'\n",
    "       ]\n",
    "    data=pd.read_csv(url, names = columns, na_values=' ?')\n",
    "    return data"
   ]
  },
  {
   "cell_type": "code",
   "execution_count": 0,
   "metadata": {
    "colab": {},
    "colab_type": "code",
    "id": "el-hcPgalDyz"
   },
   "outputs": [],
   "source": [
    "url = prefix+'census/census-income.data'\n",
    "raw_data = get_data(url)"
   ]
  },
  {
   "cell_type": "markdown",
   "metadata": {
    "colab_type": "text",
    "id": "iuvg0oLVlDy9"
   },
   "source": [
    "### EDA"
   ]
  },
  {
   "cell_type": "code",
   "execution_count": 0,
   "metadata": {
    "colab": {},
    "colab_type": "code",
    "id": "FG1lC16MlDy_",
    "scrolled": true
   },
   "outputs": [],
   "source": [
    "pd.options.display.max_columns = None\n",
    "raw_data.head(300)"
   ]
  },
  {
   "cell_type": "code",
   "execution_count": 0,
   "metadata": {
    "colab": {},
    "colab_type": "code",
    "id": "6hNF1nJ3lDzF"
   },
   "outputs": [],
   "source": [
    "raw_data.info()"
   ]
  },
  {
   "cell_type": "code",
   "execution_count": 0,
   "metadata": {
    "colab": {},
    "colab_type": "code",
    "id": "7fwpYyCalDzJ",
    "scrolled": true
   },
   "outputs": [],
   "source": [
    "raw_data.groupby('class').count()"
   ]
  },
  {
   "cell_type": "markdown",
   "metadata": {
    "colab_type": "text",
    "id": "PYkO__MrlDzO"
   },
   "source": [
    "##### Imbalanced dataset => Need to decide weather we should go for re-sampling techniques or not (after performance evaluation)"
   ]
  },
  {
   "cell_type": "markdown",
   "metadata": {
    "colab_type": "text",
    "id": "KjxXph5PlDzP"
   },
   "source": [
    "### Outlier detection "
   ]
  },
  {
   "cell_type": "code",
   "execution_count": 0,
   "metadata": {
    "colab": {},
    "colab_type": "code",
    "id": "g3ig5ZUalDzQ",
    "scrolled": true
   },
   "outputs": [],
   "source": [
    "raw_data.describe()"
   ]
  },
  {
   "cell_type": "code",
   "execution_count": 0,
   "metadata": {
    "colab": {},
    "colab_type": "code",
    "id": "ugJNOQcSlDzU"
   },
   "outputs": [],
   "source": [
    "sns.set(style=\"whitegrid\")\n",
    "ax = sns.boxplot(y=raw_data['age'])"
   ]
  },
  {
   "cell_type": "code",
   "execution_count": 0,
   "metadata": {
    "colab": {},
    "colab_type": "code",
    "id": "6YB_sU5ClDzY"
   },
   "outputs": [],
   "source": [
    "raw_data.select_dtypes(exclude = 'O').plot(kind = 'box', figsize = (50,8))"
   ]
  },
  {
   "cell_type": "markdown",
   "metadata": {
    "colab_type": "text",
    "id": "y6bHiZnrlDzc"
   },
   "source": [
    "### Find missing values"
   ]
  },
  {
   "cell_type": "code",
   "execution_count": 0,
   "metadata": {
    "colab": {},
    "colab_type": "code",
    "id": "j6eMiJ5rlDzd"
   },
   "outputs": [],
   "source": [
    "contain_null = np.array(raw_data.isnull().sum().to_frame()[raw_data.isnull().sum().to_frame()[0]!=0].index)"
   ]
  },
  {
   "cell_type": "markdown",
   "metadata": {
    "colab_type": "text",
    "id": "pbCf2HP3lDzg"
   },
   "source": [
    "There are 8 features having missing values: \n",
    "- state of previous residence\n",
    "- migration code-change in msa \n",
    "- migration code-change in reg \n",
    "- migration code-move within reg\n",
    "- migration prev res in sunbelt \n",
    "- country of birth father\n",
    "- country of birth mother\n",
    "- country of birth self\n"
   ]
  },
  {
   "cell_type": "markdown",
   "metadata": {
    "colab_type": "text",
    "id": "P5_w11tllDzh"
   },
   "source": [
    "### Missing values imputation"
   ]
  },
  {
   "cell_type": "code",
   "execution_count": 0,
   "metadata": {
    "colab": {},
    "colab_type": "code",
    "id": "7AbaGcwJLcxh"
   },
   "outputs": [],
   "source": [
    "for col in raw_data.select_dtypes('O').columns:\n",
    "    raw_data[col] = raw_data[col].astype('category')"
   ]
  },
  {
   "cell_type": "code",
   "execution_count": 0,
   "metadata": {
    "colab": {},
    "colab_type": "code",
    "id": "Fo1kivv1lDzn"
   },
   "outputs": [],
   "source": [
    "def OnehotEncode(data, categorical_columns):\n",
    "    df_1 = data.drop(columns = categorical_columns, axis = 1)\n",
    "    df_2 = pd.get_dummies(data[categorical_columns])\n",
    "    df = pd.concat([df_1, df_2], axis=1, join='inner')\n",
    "    return df"
   ]
  },
  {
   "cell_type": "code",
   "execution_count": 0,
   "metadata": {
    "colab": {},
    "colab_type": "code",
    "id": "LJZ_KCxWlDzq",
    "scrolled": true
   },
   "outputs": [],
   "source": [
    "def ImputeVoteClassifier(OnehotEncode, data, target_name):\n",
    "    print('*'*100+'\\n')\n",
    "    print('Start imputing missing values for feature: {} \\n'.format(target_name))\n",
    "    # Training set\n",
    "    print('Generating training set...')\n",
    "    train_data = data[data[target_name].notnull()].copy()\n",
    "    train_target = train_data[target_name]\n",
    "    train_data.drop(columns = [target_name], inplace = True)\n",
    "    encoded_train = OnehotEncode(train_data, train_data.select_dtypes('category').columns)\n",
    "    print('Done generating training set \\n')\n",
    "    # Testing set\n",
    "    print('Generating testing set...')\n",
    "    test_data = data[data[target_name].isnull()].copy()\n",
    "    test_target = test_data[target_name]\n",
    "    # Drop target var in testing set\n",
    "    test_data.drop(columns = [target_name], inplace = True)\n",
    "    encoded_test = OnehotEncode(test_data, test_data.select_dtypes('category').columns)\n",
    "    print('Done generating testing set \\n')\n",
    "    # Fit data into base classifiers\n",
    "    etc = ExtraTreeClassifier()\n",
    "    print('Fitting data into {}...'.format(etc.__class__.__name__))\n",
    "    etc.fit(encoded_train, train_target)\n",
    "    etc_pred = etc.predict(encoded_test)\n",
    "\n",
    "    dtc = DecisionTreeClassifier()\n",
    "    print('Fitting data into {}...'.format(dtc.__class__.__name__))\n",
    "    dtc.fit(encoded_train, train_target)\n",
    "    dtc_pred = dtc.predict(encoded_test)\n",
    "\n",
    "    rfc = RandomForestClassifier()\n",
    "    print('Start fitting data into {}...'.format(rfc.__class__.__name__))\n",
    "    rfc.fit(encoded_train, train_target)\n",
    "    rfc_pred = rfc.predict(encoded_test)\n",
    "    \n",
    "    # Finalize data\n",
    "    print('Voting final predictions...')\n",
    "    final_pred = np.array([])\n",
    "    for i in range(0,len(test_target)):\n",
    "        final_pred = np.append(final_pred, mode([etc_pred[i], dtc_pred[i], rfc_pred[i]])[0])\n",
    "    print('Done voting and dump final predictions into feature: {}'.format(target_name))\n",
    "    print('\\n'+'*'*100)\n",
    "    return final_pred\n"
   ]
  },
  {
   "cell_type": "code",
   "execution_count": 73,
   "metadata": {
    "colab": {
     "base_uri": "https://localhost:8080/",
     "height": 1000
    },
    "colab_type": "code",
    "executionInfo": {
     "elapsed": 322,
     "status": "ok",
     "timestamp": 1580140379298,
     "user": {
      "displayName": "Trinh Khanh",
      "photoUrl": "",
      "userId": "17861245512727474138"
     },
     "user_tz": -420
    },
    "id": "_0RgHUZMlDzs",
    "outputId": "94b215ca-4270-4e6e-8e04-600502fed76d"
   },
   "outputs": [
    {
     "name": "stdout",
     "output_type": "stream",
     "text": [
      "****************************************************************************************************\n",
      "\n",
      "Start imputing missing values for feature: migration code-change in msa \n",
      "\n",
      "Generating training set...\n",
      "Done generating training set \n",
      "\n",
      "Generating testing set...\n",
      "Done generating testing set \n",
      "\n",
      "Fitting data into ExtraTreeClassifier...\n",
      "Fitting data into DecisionTreeClassifier...\n",
      "Start fitting data into RandomForestClassifier...\n",
      "Voting final predictions...\n",
      "Done voting and dump final predictions into feature: migration code-change in msa\n",
      "\n",
      "****************************************************************************************************\n",
      "****************************************************************************************************\n",
      "\n",
      "Start imputing missing values for feature: migration code-change in reg \n",
      "\n",
      "Generating training set...\n",
      "Done generating training set \n",
      "\n",
      "Generating testing set...\n",
      "Done generating testing set \n",
      "\n",
      "Fitting data into ExtraTreeClassifier...\n",
      "Fitting data into DecisionTreeClassifier...\n",
      "Start fitting data into RandomForestClassifier...\n",
      "Voting final predictions...\n",
      "Done voting and dump final predictions into feature: migration code-change in reg\n",
      "\n",
      "****************************************************************************************************\n",
      "****************************************************************************************************\n",
      "\n",
      "Start imputing missing values for feature: migration code-move within reg \n",
      "\n",
      "Generating training set...\n",
      "Done generating training set \n",
      "\n",
      "Generating testing set...\n",
      "Done generating testing set \n",
      "\n",
      "Fitting data into ExtraTreeClassifier...\n",
      "Fitting data into DecisionTreeClassifier...\n",
      "Start fitting data into RandomForestClassifier...\n",
      "Voting final predictions...\n",
      "Done voting and dump final predictions into feature: migration code-move within reg\n",
      "\n",
      "****************************************************************************************************\n",
      "****************************************************************************************************\n",
      "\n",
      "Start imputing missing values for feature: migration prev res in sunbelt \n",
      "\n",
      "Generating training set...\n",
      "Done generating training set \n",
      "\n",
      "Generating testing set...\n",
      "Done generating testing set \n",
      "\n",
      "Fitting data into ExtraTreeClassifier...\n",
      "Fitting data into DecisionTreeClassifier...\n",
      "Start fitting data into RandomForestClassifier...\n",
      "Voting final predictions...\n",
      "Done voting and dump final predictions into feature: migration prev res in sunbelt\n",
      "\n",
      "****************************************************************************************************\n",
      "****************************************************************************************************\n",
      "\n",
      "Start imputing missing values for feature: country of birth father \n",
      "\n",
      "Generating training set...\n",
      "Done generating training set \n",
      "\n",
      "Generating testing set...\n",
      "Done generating testing set \n",
      "\n",
      "Fitting data into ExtraTreeClassifier...\n",
      "Fitting data into DecisionTreeClassifier...\n",
      "Start fitting data into RandomForestClassifier...\n",
      "Voting final predictions...\n",
      "Done voting and dump final predictions into feature: country of birth father\n",
      "\n",
      "****************************************************************************************************\n",
      "****************************************************************************************************\n",
      "\n",
      "Start imputing missing values for feature: country of birth mother \n",
      "\n",
      "Generating training set...\n",
      "Done generating training set \n",
      "\n",
      "Generating testing set...\n",
      "Done generating testing set \n",
      "\n",
      "Fitting data into ExtraTreeClassifier...\n",
      "Fitting data into DecisionTreeClassifier...\n",
      "Start fitting data into RandomForestClassifier...\n",
      "Voting final predictions...\n",
      "Done voting and dump final predictions into feature: country of birth mother\n",
      "\n",
      "****************************************************************************************************\n",
      "****************************************************************************************************\n",
      "\n",
      "Start imputing missing values for feature: country of birth self \n",
      "\n",
      "Generating training set...\n",
      "Done generating training set \n",
      "\n",
      "Generating testing set...\n",
      "Done generating testing set \n",
      "\n",
      "Fitting data into ExtraTreeClassifier...\n",
      "Fitting data into DecisionTreeClassifier...\n",
      "Start fitting data into RandomForestClassifier...\n",
      "Voting final predictions...\n",
      "Done voting and dump final predictions into feature: country of birth self\n",
      "\n",
      "****************************************************************************************************\n"
     ]
    }
   ],
   "source": [
    "for f in contain_null:\n",
    "    raw_data.loc[(raw_data[f].isnull()),f] = ImputeVoteClassifier(OnehotEncode, raw_data, f)"
   ]
  },
  {
   "cell_type": "markdown",
   "metadata": {
    "colab": {},
    "colab_type": "code",
    "id": "E6F_NasWlmOE"
   },
   "source": [
    "### Model development"
   ]
  },
  {
   "cell_type": "code",
   "execution_count": 0,
   "metadata": {
    "colab": {},
    "colab_type": "code",
    "id": "Fv2djE20wTBV"
   },
   "outputs": [],
   "source": [
    "X, y = raw_data.iloc[:,1:-1],raw_data.iloc[:,-1]\n",
    "X = OnehotEncode(X, X.select_dtypes('category').columns)\n",
    "regex = re.compile(r\"\\[|\\]|<\", re.IGNORECASE)\n",
    "X.columns = [regex.sub(\"_\", col) if any(x in str(col) for x in set(('[', ']', '<'))) else col for col in X.columns.values]"
   ]
  },
  {
   "cell_type": "code",
   "execution_count": 0,
   "metadata": {
    "colab": {},
    "colab_type": "code",
    "id": "XICuPorBt1XU"
   },
   "outputs": [],
   "source": [
    "def split_data(X,y, seed, re=False):\n",
    "    # Train-Test split\n",
    "    test_size = 0.3\n",
    "    X_train_o, X_test, y_train_o, y_test = model_selection.train_test_split(X, y, test_size=test_size, random_state=seed)\n",
    "    # Resampling\n",
    "    if re:\n",
    "        resam=SMOTE(random_state=seed)\n",
    "        resam.fit(X_train_o, y_train_o)\n",
    "        X_train, y_train = resam.fit_resample(X_train_o, y_train_o)\n",
    "        X_train = pd.DataFrame(X_train, columns=X_train_o.columns)\n",
    "        y_train = pd.Series(y_train)\n",
    "    else:\n",
    "        X_train, y_train = X_train_o,y_train_o\n",
    "    return X_train, y_train, X_test, y_test\n",
    "X_train, y_train, X_test, y_test = split_data(X, y, seed=1003, re=False)\n"
   ]
  },
  {
   "cell_type": "code",
   "execution_count": 0,
   "metadata": {
    "colab": {},
    "colab_type": "code",
    "id": "hoN-Ur7YuZ-5"
   },
   "outputs": [],
   "source": [
    "model = xgb.XGBClassifier(\n",
    "                    subsample= 0.8, \n",
    "                    silent= 1, \n",
    "                    seed= 50, \n",
    "                    reg_lambda= 40, \n",
    "                    reg_alpha= 10, \n",
    "                    objective= 'binary:logistic', \n",
    "                    n_estimators= 1024, \n",
    "                    min_child_weight= 15, \n",
    "                    max_depth= 4, \n",
    "                    learning_rate= 0.05, \n",
    "                    gamma= 0.8, \n",
    "                    colsample_bytree= 0.4, \n",
    "                    class_weight= 'd',\n",
    "                      verbose=2\n",
    "                      )"
   ]
  },
  {
   "cell_type": "code",
   "execution_count": 0,
   "metadata": {
    "colab": {},
    "colab_type": "code",
    "id": "HymqqpWCuv_r"
   },
   "outputs": [],
   "source": [
    "eval_set = [(X_train, y_train), (X_test, y_test)]\n",
    "eval_metric = [\n",
    "            #    \"logloss\",\n",
    "               \"auc\"\n",
    "#                \"aucpr\",\n",
    "#                \"error\",\n",
    "              ]\n",
    "model.fit(X_train, y_train, eval_metric=eval_metric, eval_set=eval_set, verbose=True,early_stopping_rounds=15)"
   ]
  }
 ],
 "metadata": {
  "colab": {
   "collapsed_sections": [],
   "name": "Income prediction HUS.ipynb",
   "provenance": []
  },
  "kernelspec": {
   "display_name": "Python 3",
   "language": "python",
   "name": "python3"
  },
  "language_info": {
   "codemirror_mode": {
    "name": "ipython",
    "version": 3
   },
   "file_extension": ".py",
   "mimetype": "text/x-python",
   "name": "python",
   "nbconvert_exporter": "python",
   "pygments_lexer": "ipython3",
   "version": "3.7.4"
  }
 },
 "nbformat": 4,
 "nbformat_minor": 1
}
